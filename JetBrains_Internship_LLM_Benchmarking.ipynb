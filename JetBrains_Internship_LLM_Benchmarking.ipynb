{
  "nbformat": 4,
  "nbformat_minor": 0,
  "metadata": {
    "colab": {
      "provenance": [],
      "gpuType": "T4"
    },
    "kernelspec": {
      "name": "python3",
      "display_name": "Python 3"
    },
    "language_info": {
      "name": "python"
    },
    "accelerator": "GPU"
  },
  "cells": [
    {
      "cell_type": "markdown",
      "source": [
        "# The Task\n",
        "\n",
        "To benchmark the performance LLMs, prepare 5 benchmark questions related to common market research questions. The areas of questions:\n",
        "\n",
        "*Trend analysis:* e.g. what are key trending libraries in Data Science market?\n",
        "\n",
        "*Competitive Landscape:* e.g. what are main competitors of PyCharm?\n",
        "\n",
        "*Competitive Pricing:* what is competitive pricing for product X?\n",
        "\n",
        "Choose 5 LLMs to benchmark (you are free to choose from a wide variety of latest LLMs). Finally, prepare evaluation criterias for each benchmark question.\n",
        "\n",
        "**Resulting output**\n",
        "\n",
        "*Compiled Responses:* A document containing all the LLMs' responses to each benchmark question.\n",
        "\n",
        "*Evaluation Matrix:* A table comparing the LLMs' performance based on the defined evaluation criteria for each question.\n",
        "\n",
        "*Summary Report:* A concise report summarizing the key findings of the benchmark, highlighting strengths and weaknesses of each LLM, and offering recommendations.\n",
        "\n",
        "Share the link to the artifacts located on GitHub or Google Drive.\n"
      ],
      "metadata": {
        "id": "CJyE0fXIjR4d"
      }
    },
    {
      "cell_type": "markdown",
      "source": [
        "# Introduction\n",
        "\n",
        "This document represent itself a resulting output and contains compiled responses, evaluation matrix, and summary report altogether.\n",
        "\n",
        "Despite a significant role of a human-annotator in the benchmarking of LLMs, I also believe that during any benchmarking it is important to imply as much automatization as possible to save human time and resources. That is why I chose to use coding tools to create the report.\n",
        "\n",
        "## Pipeline\n",
        "\n",
        "I divide the question used in this report for two types:\n",
        "\n",
        "1. Questions that have text answer;\n",
        "2. Questions that have numerical answer.\n",
        "\n",
        "To get question answers:\n",
        "1. I use publicly available APIs (this is due to some instruct-tuned models being too heavy to run them in the Colab).\n",
        "2. a. For the first type of questions, I measure the cosine similarity of both models' answers and human-annotated answers using embeddings from a third-model (I got the idea from [Zheng et al., 2023](https://arxiv.org/abs/2306.05685)). If cosine similarity of a model answer is above the certain threshold, it counts as a correct answer. This approach simplifies the evaluation of answers given by LLMs as human evaluation process needs carefully-designed criterias and rules. Human evaluation process also sometimes can cause confusion, e.g., if the model answer is not exactly similar to the correct one.\n",
        "   \n",
        "   b. For the second type, the model's answer allowed to be different from human-annotated answer in a certain number of times."
      ],
      "metadata": {
        "id": "963QmsRIjuZH"
      }
    },
    {
      "cell_type": "markdown",
      "source": [
        "# Questions Dataset\n",
        "\n",
        "In this section benchmarking questions are presented. The questions are about AI market. I tried to make questions as precise as possible. This is due to market changes over time and countries. For example, if the question is about most populart Python libraries, it should contain year and desirably area of library implementation (e.g., ML)."
      ],
      "metadata": {
        "id": "UKNQKL-pozen"
      }
    },
    {
      "cell_type": "markdown",
      "source": [
        "## Question 1\n",
        "\n",
        "**Q1: What are the most well-payed ML positions U.S. in 2024? Give only a list of top-5 positions.**\n",
        "\n",
        "This is *trend analysis* question. To answer that question, I browsed three sources ([1](https://www.birchwoodu.org/highest-paying-artificial-intelligence-ai-machine-learning-ml-jobs/), [2](https://www.vktr.com/ai-market/10-top-machine-learning-ml-jobs-and-salaries/), [3](https://www.upwork.com/resources/highest-paying-machine-learning-jobs)) and chose overlap ML positions inbetween them. The right answer should be following:\n",
        "\n",
        "**A1: ML Engineer, NLP Engineer, Data Scientist, CV Engineer, AI Engineer.**\n",
        "\n",
        "Ideally, I would base the correct answer on some statistics data. For example, take [this dataset](https://www.kaggle.com/datasets/kanchana1990/ai-and-ml-job-listings-usa), merge similar position under one name and look at the top positions by average salary. However, this approach is more time-consuming."
      ],
      "metadata": {
        "id": "SctkZMm1o8-d"
      }
    },
    {
      "cell_type": "code",
      "source": [
        "q1 = \"What are the most well-payed ML positions U.S. in 2024? Name only top-5 positions, nothing else.\"\n",
        "a1 = \"ML Engineer, NLP Engineer, Data Scientist, CV Engineer, AI Engineer.\""
      ],
      "metadata": {
        "id": "Xr9Q7H2yqP53"
      },
      "execution_count": null,
      "outputs": []
    },
    {
      "cell_type": "markdown",
      "source": [
        "## Question 2\n",
        "\n",
        "**Q2: What are the 5 most popular Python ML libraries in 2024?**\n",
        "\n",
        "This is *trend analysis* question. To answer the question, I used information from [this](https://www.fragment-studio.com/posts/8-python-libraries-for-machine-learning-in-2024) source. The right answer supposed to look like this:\n",
        "\n",
        "**A2: TensorFlow, Scikit-Learn, PyTorch, NumPy, Keras.**\n",
        "\n",
        "However, I understand that it is not quite alright to base the answer only on one source. Ideally, I would scrap data from different resources to see the most popular ML libraries. For example, parse StackOverflow Python questions posted in 2024, classify whether they are about ML libraries (e. g., whether they mention any library from a pre-defined list) and count the most mentioned libraries."
      ],
      "metadata": {
        "id": "6lZ-piIFsvgL"
      }
    },
    {
      "cell_type": "code",
      "source": [
        "q2 = \"What are 5 the most popular Python ML libraries in 2024? Give only a list of 5 libraries. Name only 5 libraries, nothing else.\"\n",
        "a2 = \"TensorFlow, Scikit-Learn, PyTorch, NumPy, Keras.\""
      ],
      "metadata": {
        "id": "EWF1TgfKqfRr"
      },
      "execution_count": null,
      "outputs": []
    },
    {
      "cell_type": "markdown",
      "source": [
        "## Question 3\n",
        "\n",
        "**Q3: Choose the 3 biggest OpenAI competitors based on market capitalisation from a list: Mistral AI, Meta, Anthropic, DeepMind, Alibaba Cloud.**\n",
        "\n",
        "This is *competetive landscape* question. To answer the question, I googled capitalisation of each company:\n",
        "\n",
        "+ *Mistral AI*: 1,145,465.61 USD\n",
        "+ *Meta*: 1,490,000,000,000 USD\n",
        "+ *Antrophic*: 25,050,000,000 USD\n",
        "+ *DeepMind*: 53,170,000,000 USD\n",
        "+ *Alibaba Cloud*: 263,780,000,000 USD\n",
        "\n",
        "The answer is:\n",
        "\n",
        "**A3: Meta, Alibaba Cloud, DeepMind.**\n",
        "\n",
        "I assesed the data on market capitalisation on 15th of October. It might change over time, however, the proportion should remain the same till today. This question might be tricky for systems that use \"pure\" LLMs without updated RAG system."
      ],
      "metadata": {
        "id": "GQhbGz7saD7Y"
      }
    },
    {
      "cell_type": "code",
      "source": [
        "q3 = \"Choose the 3 biggest OpenAI competitors based on market capitalisation from a list: Mistral AI, Meta, Anthropic, DeepMind, Alibaba Cloud. Name only 3 companies, nothing else.\"\n",
        "a3 = \" Meta, Alibaba Cloud, DeepMind.\""
      ],
      "metadata": {
        "id": "5JK6AojSa8AY"
      },
      "execution_count": null,
      "outputs": []
    },
    {
      "cell_type": "markdown",
      "source": [
        "## Question 4\n",
        "\n",
        "**Q4: What is the competitive USD pricing range for individual month subscription per user to code writing assistant? Give only a range of 2 numbers separated by \"-\" symbol.**\n",
        "\n",
        "For this question I found main code writing assistants by googling: Copilot, Amazon Q, Supermaven, Codeium, AskCodi.\n",
        "\n",
        "The prices per month for theese instruments are as follows:\n",
        "\n",
        "+ *Copilot:* 10 USD\n",
        "+ *Amazon Q:* 20 USD\n",
        "+ *Supermaven:* 10 USD\n",
        "+ *Codeium:* 10 USD\n",
        "+ *AskCodi:* 15 USD\n",
        "\n",
        "Therefore, the price range is 10-20 USD. Thus, the right answer is:\n",
        "\n",
        "**A4: 10-20**\n",
        "\n"
      ],
      "metadata": {
        "id": "emYNuWCDbs14"
      }
    },
    {
      "cell_type": "code",
      "source": [
        "q4 = \"What is the competitive USD pricing range for individual month subscription per user to code writing assistant? Give only a range of 2 numbers separated by '-' symbol.\"\n",
        "a4 = \"10-20\""
      ],
      "metadata": {
        "id": "pL5r5w2di1ZC"
      },
      "execution_count": null,
      "outputs": []
    },
    {
      "cell_type": "markdown",
      "source": [
        "## Question 5\n",
        "\n",
        "**Q5: Which country is the leader in AI development in 2024? Give only a country's name.**\n",
        "\n",
        "According to the [The Global AI Index](https://www.tortoisemedia.com/intelligence/global-ai/), USA is the leader in AI. Also, some other ratings (and googling) confirm this.\n",
        "\n",
        "**A5: USA.**\n",
        "\n",
        "This question might be too easy and obvious. It would be more interesting to ask about Top-10 AI leading countries. However, this requires more precise analysis of several indexes and ratings. At the same time, USA leadership is not doubted by any of them."
      ],
      "metadata": {
        "id": "BW2ZziSsi6-L"
      }
    },
    {
      "cell_type": "code",
      "source": [
        "q5 = \"Which country is the leader in AI development in 2024? Name only a country's name.\"\n",
        "a5 = \"USA.\""
      ],
      "metadata": {
        "id": "WpM9byfjscGy"
      },
      "execution_count": null,
      "outputs": []
    },
    {
      "cell_type": "markdown",
      "source": [
        "## Libraries Import"
      ],
      "metadata": {
        "id": "o4LpIukzuBTI"
      }
    },
    {
      "cell_type": "code",
      "source": [
        "!pip install hugchat"
      ],
      "metadata": {
        "id": "zHCEg28oDUPK"
      },
      "execution_count": null,
      "outputs": []
    },
    {
      "cell_type": "code",
      "source": [
        "!pip install -U sentence-transformers"
      ],
      "metadata": {
        "id": "qItEZLGPQEQc"
      },
      "execution_count": null,
      "outputs": []
    },
    {
      "cell_type": "code",
      "source": [
        "import re\n",
        "import time\n",
        "\n",
        "import seaborn as sns\n",
        "import matplotlib.pyplot as plt\n",
        "\n",
        "import torch\n",
        "import numpy as np\n",
        "\n",
        "from sentence_transformers import SentenceTransformer, util\n",
        "\n",
        "from hugchat import hugchat\n",
        "from hugchat.login import Login"
      ],
      "metadata": {
        "id": "Uk33IZukMVz_",
        "colab": {
          "base_uri": "https://localhost:8080/"
        },
        "outputId": "c463c0d4-2aae-40a2-a72d-ff79310af4f1"
      },
      "execution_count": null,
      "outputs": [
        {
          "output_type": "stream",
          "name": "stderr",
          "text": [
            "/usr/local/lib/python3.10/dist-packages/sentence_transformers/cross_encoder/CrossEncoder.py:13: TqdmExperimentalWarning: Using `tqdm.autonotebook.tqdm` in notebook mode. Use `tqdm.tqdm` instead to force console mode (e.g. in jupyter console)\n",
            "  from tqdm.autonotebook import tqdm, trange\n"
          ]
        }
      ]
    },
    {
      "cell_type": "markdown",
      "source": [
        "# Benchmarking\n",
        "\n",
        "I chose 5 models from 5 different developers for benchmarking:\n",
        "\n",
        "+ meta-llama/Meta-Llama-3.1-70B-Instruct\n",
        "+ Qwen/Qwen2.5-72B-Instruct\n",
        "+ mistralai/Mistral-Nemo-Instruct-2407\n",
        "+ NousResearch/Hermes-3-Llama-3.1-8B\n",
        "+ microsoft/Phi-3.5-mini-instruct\n",
        "\n",
        "To faciliate inference, I will use HugingChat API. That allows to avoid running heavy models in the Colab. Moreover, I have the API code from my previous pet project.\n",
        "\n"
      ],
      "metadata": {
        "id": "dDjEoXaSsfZV"
      }
    },
    {
      "cell_type": "code",
      "source": [
        "class HuggingChat:\n",
        "    \"\"\"\n",
        "    API for accessing HuggingChat\n",
        "    List of models: https://huggingface.co/chat\n",
        "    Requires email and password from https://huggingface.co to use\n",
        "    \"\"\"\n",
        "\n",
        "    def __init__(\n",
        "        self,\n",
        "        email: str,\n",
        "        password: str,\n",
        "        system_prompt: str = \"\",\n",
        "        cookie_path_dir: str = \"./cookies_snapshot\",\n",
        "        model: str = \"mistralai/Mixtral-8x7B-Instruct-v0.1\",\n",
        "    ):\n",
        "        self.sign = Login(email, password)\n",
        "        cookies = self.sign.login()\n",
        "        self.sign.saveCookiesToDir(cookie_path_dir)\n",
        "        self.chatbot = hugchat.ChatBot(cookies=cookies.get_dict())\n",
        "        # Check actual list of models on https://huggingface.co/chat/settings\n",
        "        self.models = {\n",
        "            \"meta-llama/Meta-Llama-3.1-70B-Instruct\": 0,\n",
        "            \"CohereForAI/c4ai-command-r-plus-08-2024\": 1,\n",
        "            \"Qwen/Qwen2.5-72B-Instruct\": 2,\n",
        "            \"nvidia/Llama-3.1-Nemotron-70B-Instruct-HF\": 3,\n",
        "            \"meta-llama/Llama-3.2-11B-Vision-Instruct\": 4,\n",
        "            \"NousResearch/Hermes-3-Llama-3.1-8B\": 5,\n",
        "            \"mistralai/Mistral-Nemo-Instruct-2407\": 6,\n",
        "            \"microsoft/Phi-3.5-mini-instruct\": 7\n",
        "        }\n",
        "        self.system_prompt = system_prompt\n",
        "        self.model = self.models[model]\n",
        "        self.chatbot = hugchat.ChatBot(cookies=cookies.get_dict(), system_prompt=self.system_prompt)\n",
        "        self.chatbot.switch_llm(self.model)\n",
        "        self.chatbot.new_conversation(switch_to=True, system_prompt=self.system_prompt)\n",
        "\n",
        "    def prompt(self, prompt: str) -> str:\n",
        "        return str(self.chatbot.chat(prompt, web_search = False))\n",
        "\n",
        "    def delete_conversations(self) -> None:\n",
        "        \"\"\"\n",
        "        Deletes all conversations in a user's profile\n",
        "        \"\"\"\n",
        "        self.chatbot.delete_all_conversations()\n",
        "        self.chatbot.new_conversation(switch_to=True,system_prompt=self.system_prompt)\n",
        "\n",
        "    def switch_model(self, model: str) -> None:\n",
        "        self.model = self.models[model]\n",
        "        self.chatbot.switch_llm(self.model)\n",
        "        self.chatbot.new_conversation(switch_to=True,system_prompt=self.system_prompt)\n",
        "\n",
        "    def switch_system_prompt(self, system_prompt: str) -> None:\n",
        "        self.system_prompt = system_prompt"
      ],
      "metadata": {
        "id": "_77LoBs2NAJ-"
      },
      "execution_count": null,
      "outputs": []
    },
    {
      "cell_type": "markdown",
      "source": [
        "Credentials for logging in HuggingFace are supposed to be here:"
      ],
      "metadata": {
        "id": "5TqYnddvTfUb"
      }
    },
    {
      "cell_type": "code",
      "source": [
        "email = \"\"\n",
        "password = \"\""
      ],
      "metadata": {
        "id": "llRPi2e7STXk"
      },
      "execution_count": null,
      "outputs": []
    },
    {
      "cell_type": "markdown",
      "source": [
        "List of models I will use:"
      ],
      "metadata": {
        "id": "8PUgmYOQAz7y"
      }
    },
    {
      "cell_type": "code",
      "source": [
        "models = [\n",
        "    \"meta-llama/Meta-Llama-3.1-70B-Instruct\",\n",
        "    \"Qwen/Qwen2.5-72B-Instruct\",\n",
        "    \"mistralai/Mistral-Nemo-Instruct-2407\",\n",
        "    \"NousResearch/Hermes-3-Llama-3.1-8B\",\n",
        "    \"microsoft/Phi-3.5-mini-instruct\"\n",
        "    ]"
      ],
      "metadata": {
        "id": "FAWO3oYfZvTX"
      },
      "execution_count": null,
      "outputs": []
    },
    {
      "cell_type": "markdown",
      "source": [
        "Create dictionaries for answers and lists of questions and right answers."
      ],
      "metadata": {
        "id": "ljF91w1G_uyx"
      }
    },
    {
      "cell_type": "code",
      "source": [
        "answers = {}\n",
        "\n",
        "for model in models:\n",
        "    answers[model] = []"
      ],
      "metadata": {
        "id": "Gc7v7QOdaJld"
      },
      "execution_count": null,
      "outputs": []
    },
    {
      "cell_type": "code",
      "source": [
        "questions = [q1, q2, q3, q4, q5]"
      ],
      "metadata": {
        "id": "W8T8AihQaWRl"
      },
      "execution_count": null,
      "outputs": []
    },
    {
      "cell_type": "code",
      "source": [
        "true_answers = [a1, a2, a3, a4, a5]"
      ],
      "metadata": {
        "id": "cxl110wWGvgO"
      },
      "execution_count": null,
      "outputs": []
    },
    {
      "cell_type": "markdown",
      "source": [
        "Get LLMs' answers to benchmark questions with HuggingChat API. The pause is needed to avoid being blocked."
      ],
      "metadata": {
        "id": "0LzwBGGL_1cP"
      }
    },
    {
      "cell_type": "code",
      "source": [
        "for model in models:\n",
        "    model_api = HuggingChat(email, password, model=model)\n",
        "    for q in questions:\n",
        "        answers[model].append(model_api.prompt(q))\n",
        "        model_api.delete_conversations()\n",
        "        time.sleep(12)"
      ],
      "metadata": {
        "id": "RCZN4dclaHf1"
      },
      "execution_count": null,
      "outputs": []
    },
    {
      "cell_type": "markdown",
      "source": [
        "An answer example:"
      ],
      "metadata": {
        "id": "tavDtArsADC-"
      }
    },
    {
      "cell_type": "code",
      "source": [
        "answers['NousResearch/Hermes-3-Llama-3.1-8B'][0]"
      ],
      "metadata": {
        "colab": {
          "base_uri": "https://localhost:8080/",
          "height": 35
        },
        "id": "a8a_3VkeZI3D",
        "outputId": "31204050-2738-4c9a-d040-9743cb440d72"
      },
      "execution_count": null,
      "outputs": [
        {
          "output_type": "execute_result",
          "data": {
            "text/plain": [
              "'1. Machine Learning Engineer\\n2. Data Scientist\\n3. AI Research Scientist\\n4. Natural Language Processing (NLP) Engineer\\n5. Computer Vision Engineer'"
            ],
            "application/vnd.google.colaboratory.intrinsic+json": {
              "type": "string"
            }
          },
          "metadata": {},
          "execution_count": 18
        }
      ]
    },
    {
      "cell_type": "markdown",
      "source": [
        "# Evaluation"
      ],
      "metadata": {
        "id": "k69gkzklTVjC"
      }
    },
    {
      "cell_type": "markdown",
      "source": [
        "For text answer evaluation, I will use embeddings obtained from sentence transformer model. I chose sentence-transformers/all-MiniLM-L6-v2 due to the small size and fast inference.\n",
        "\n",
        "As I ran out of GPU in Colab, I won't use it (and inference still will be fast)."
      ],
      "metadata": {
        "id": "5DqnGmFTAGEM"
      }
    },
    {
      "cell_type": "code",
      "source": [
        "model_judge = SentenceTransformer('sentence-transformers/all-MiniLM-L6-v2')"
      ],
      "metadata": {
        "id": "otPdkh5iN3-s"
      },
      "execution_count": null,
      "outputs": []
    },
    {
      "cell_type": "markdown",
      "source": [
        "Compute embeddings for true answers:"
      ],
      "metadata": {
        "id": "Z_G48h5RBJer"
      }
    },
    {
      "cell_type": "code",
      "source": [
        "true_answers_embeddings = []\n",
        "\n",
        "for a in true_answers:\n",
        "    true_answers_embeddings.append(model_judge.encode(a))"
      ],
      "metadata": {
        "id": "p_bp6UT6JFV6"
      },
      "execution_count": null,
      "outputs": []
    },
    {
      "cell_type": "code",
      "source": [
        "true_answers_embeddings[0].shape"
      ],
      "metadata": {
        "colab": {
          "base_uri": "https://localhost:8080/"
        },
        "id": "EVqyDSBtJkrZ",
        "outputId": "357cf5ed-423e-4361-d3d0-a8ba5c723790"
      },
      "execution_count": null,
      "outputs": [
        {
          "output_type": "execute_result",
          "data": {
            "text/plain": [
              "(384,)"
            ]
          },
          "metadata": {},
          "execution_count": 42
        }
      ]
    },
    {
      "cell_type": "markdown",
      "source": [
        "Test sentence-transformers built-in cosine similarity function:"
      ],
      "metadata": {
        "id": "XK2SWuuKBNaA"
      }
    },
    {
      "cell_type": "code",
      "source": [
        "util.pytorch_cos_sim(true_answers_embeddings[0], true_answers_embeddings[1])"
      ],
      "metadata": {
        "colab": {
          "base_uri": "https://localhost:8080/"
        },
        "id": "xZH44AMmJxuV",
        "outputId": "23e7cd42-e3b6-466b-e7d3-979b4c667c60"
      },
      "execution_count": null,
      "outputs": [
        {
          "output_type": "execute_result",
          "data": {
            "text/plain": [
              "tensor([[0.3258]])"
            ]
          },
          "metadata": {},
          "execution_count": 44
        }
      ]
    },
    {
      "cell_type": "markdown",
      "source": [
        "Create dictionary for answers embeddings of each model:"
      ],
      "metadata": {
        "id": "on8a7_hlBeGO"
      }
    },
    {
      "cell_type": "code",
      "source": [
        "answers_embeddings = {}\n",
        "\n",
        "for model in models:\n",
        "    answers_embeddings[model] = []"
      ],
      "metadata": {
        "id": "krUaSoz6LYz5"
      },
      "execution_count": null,
      "outputs": []
    },
    {
      "cell_type": "markdown",
      "source": [
        "Compute answer embeddings:"
      ],
      "metadata": {
        "id": "6YV200n8BlIJ"
      }
    },
    {
      "cell_type": "code",
      "source": [
        "for model in models:\n",
        "    for q in answers[model]:\n",
        "        answers_embeddings[model].append(model_judge.encode(q))"
      ],
      "metadata": {
        "id": "YV0yagPSRjlx"
      },
      "execution_count": null,
      "outputs": []
    },
    {
      "cell_type": "markdown",
      "source": [
        "Create matrix for similarities of true and models' answers:"
      ],
      "metadata": {
        "id": "zoLxAwzKBtFv"
      }
    },
    {
      "cell_type": "code",
      "source": [
        "sims = {}\n",
        "\n",
        "for model in models:\n",
        "    sims[model] = [0, 0, 0, 0, 0]"
      ],
      "metadata": {
        "id": "PzQajdPCMidL"
      },
      "execution_count": null,
      "outputs": []
    },
    {
      "cell_type": "markdown",
      "source": [
        "For numerical answer evaluation (this concerns only question 4, which asks for competitive price range of AI coding assistants), I will firstly extract price range from the answer string:"
      ],
      "metadata": {
        "id": "BKHPsdb7B1Dn"
      }
    },
    {
      "cell_type": "code",
      "source": [
        "def extract_numbers(s: str) -> tuple:\n",
        "    matches = re.findall(r'\\d+\\.\\d+|\\d+', s)\n",
        "    return float(matches[0]), float(matches[1])"
      ],
      "metadata": {
        "id": "w-aVbYhfTYE8"
      },
      "execution_count": null,
      "outputs": []
    },
    {
      "cell_type": "code",
      "source": [
        "print(f\"{answers['microsoft/Phi-3.5-mini-instruct'][3]}\\n\\n->\\n\\n{extract_numbers(answers['microsoft/Phi-3.5-mini-instruct'][3])}\")"
      ],
      "metadata": {
        "colab": {
          "base_uri": "https://localhost:8080/"
        },
        "id": "z0Ds75e9WC6w",
        "outputId": "9f3634bc-9bd7-4825-d074-0ee1ba935c5b"
      },
      "execution_count": null,
      "outputs": [
        {
          "output_type": "stream",
          "name": "stdout",
          "text": [
            "$9.99 - $19.99\n",
            "\n",
            "Please note that pricing can vary based on the features offered, the level of support, and the specific platform. Always check the latest pricing from the provider for the most accurate information.\n",
            "\n",
            "->\n",
            "\n",
            "(9.99, 19.99)\n"
          ]
        }
      ]
    },
    {
      "cell_type": "markdown",
      "source": [
        "Then, compute similarity ratio between a model's answer and true answer:"
      ],
      "metadata": {
        "id": "zkQE8gcmCEKA"
      }
    },
    {
      "cell_type": "code",
      "source": [
        "def similarity_ratio(a: int, b: int) -> float:\n",
        "    if a == 0 and b == 0:\n",
        "        return 1.0\n",
        "    return 1 - abs(a - b) / max(abs(a), abs(b))"
      ],
      "metadata": {
        "id": "XOpZ8s2gWp7U"
      },
      "execution_count": null,
      "outputs": []
    },
    {
      "cell_type": "markdown",
      "source": [
        "As price range consists of two values, the final similarity is the mean of lower price and upper price similarities:"
      ],
      "metadata": {
        "id": "0eXgLtihCShA"
      }
    },
    {
      "cell_type": "code",
      "source": [
        "def numbers_sim(a: tuple, b: tuple): -> float:\n",
        "    first_ratio = similarity_ratio(a[0], b[0])\n",
        "    second_ratio = similarity_ratio(a[1], b[1])\n",
        "    return (first_ratio + second_ratio) / 2"
      ],
      "metadata": {
        "id": "lnTi9RLYXG20"
      },
      "execution_count": null,
      "outputs": []
    },
    {
      "cell_type": "markdown",
      "source": [
        "Now, compute cosine similarities of true and models' answers. Cosine similarities are computed for all questions, except question 4. For question 4, similarities ratios between numbers are computed."
      ],
      "metadata": {
        "id": "-T2ln0fsCloq"
      }
    },
    {
      "cell_type": "code",
      "source": [
        "for model in models:\n",
        "    for idx, _ in enumerate(questions):\n",
        "        if idx != 3:\n",
        "            sims[model][idx] = util.pytorch_cos_sim(answers_embeddings[model][idx], true_answers_embeddings[idx]).cpu().numpy()[0][0]\n",
        "        else:\n",
        "            sims[model][idx] = numbers_sim(extract_numbers(answers[model][idx]), extract_numbers(true_answers[idx]))"
      ],
      "metadata": {
        "id": "mkr3f1pnRq6n"
      },
      "execution_count": null,
      "outputs": []
    },
    {
      "cell_type": "markdown",
      "source": [
        "# Results"
      ],
      "metadata": {
        "id": "En-sRbg9ZNV7"
      }
    },
    {
      "cell_type": "markdown",
      "source": [
        "Let's see the results:"
      ],
      "metadata": {
        "id": "3s6HXQFXCy7g"
      }
    },
    {
      "cell_type": "code",
      "source": [
        "sims"
      ],
      "metadata": {
        "colab": {
          "base_uri": "https://localhost:8080/"
        },
        "id": "nyYyD-24Sf0T",
        "outputId": "2d3567ce-7100-4a95-b0b3-2a5f2d932362"
      },
      "execution_count": null,
      "outputs": [
        {
          "output_type": "execute_result",
          "data": {
            "text/plain": [
              "{'meta-llama/Meta-Llama-3.1-70B-Instruct': [0.64942586,\n",
              "  0.7752063,\n",
              "  0.97312284,\n",
              "  0.7948275862068965,\n",
              "  0.64857227],\n",
              " 'Qwen/Qwen2.5-72B-Instruct': [0.7755669,\n",
              "  0.6536926,\n",
              "  0.71331877,\n",
              "  0.8333333333333334,\n",
              "  0.8183331],\n",
              " 'mistralai/Mistral-Nemo-Instruct-2407': [0.7045593,\n",
              "  0.81298107,\n",
              "  0.97312284,\n",
              "  1.0,\n",
              "  0.26695907],\n",
              " 'NousResearch/Hermes-3-Llama-3.1-8B': [0.81732565,\n",
              "  0.8078035,\n",
              "  0.9197736,\n",
              "  0.9,\n",
              "  0.28770718],\n",
              " 'microsoft/Phi-3.5-mini-instruct': [0.6759182,\n",
              "  0.818522,\n",
              "  0.701711,\n",
              "  0.99925,\n",
              "  0.64857227]}"
            ]
          },
          "metadata": {},
          "execution_count": 103
        }
      ]
    },
    {
      "cell_type": "markdown",
      "source": [
        "Let's visualise results via heatmap. From this plot it is quite hard to compare models."
      ],
      "metadata": {
        "id": "ERwINQ52C0-t"
      }
    },
    {
      "cell_type": "code",
      "source": [
        "values = np.array(list(sims.values()))\n",
        "\n",
        "labels = list(sims.keys())\n",
        "\n",
        "plt.figure(figsize=(10, 6))\n",
        "sns.heatmap(values, annot=True, cmap='Blues', xticklabels=range(1, values.shape[1]+1), yticklabels=labels)\n",
        "plt.title('Heatmap of Values')\n",
        "plt.xlabel('Questions')\n",
        "plt.ylabel('Models')\n",
        "plt.show()"
      ],
      "metadata": {
        "colab": {
          "base_uri": "https://localhost:8080/",
          "height": 564
        },
        "id": "XPr5tGvyXaJh",
        "outputId": "50dfd2af-2eb6-4fcc-9919-ecb11f57fd79"
      },
      "execution_count": null,
      "outputs": [
        {
          "output_type": "display_data",
          "data": {
            "text/plain": [
              "<Figure size 1000x600 with 2 Axes>"
            ],
            "image/png": "[encoded data removed]"
          },
          "metadata": {}
        }
      ]
    },
    {
      "cell_type": "markdown",
      "source": [
        "Let's set a similarity threshold. If a similarity between model's answer and true answer is equal or above 0.8, the answer is correct. Otherwise, I consider that the answer is wrong."
      ],
      "metadata": {
        "id": "A6P7iHi3DAY8"
      }
    },
    {
      "cell_type": "code",
      "source": [
        "binary_matrix = (values >= 0.8).astype(int)\n",
        "\n",
        "plt.figure(figsize=(10, 6))\n",
        "sns.heatmap(binary_matrix, annot=True, cmap='Blues', xticklabels=range(1, binary_matrix.shape[1]+1), yticklabels=labels)\n",
        "plt.title('Heatmap of Values (1 if True)')\n",
        "plt.xlabel('Metrics')\n",
        "plt.ylabel('Models')\n",
        "plt.show()"
      ],
      "metadata": {
        "colab": {
          "base_uri": "https://localhost:8080/",
          "height": 564
        },
        "id": "_Y7eFFBKZc0d",
        "outputId": "6c255fa3-42fe-47ed-ce9a-8de40a384493"
      },
      "execution_count": null,
      "outputs": [
        {
          "output_type": "display_data",
          "data": {
            "text/plain": [
              "<Figure size 1000x600 with 2 Axes>"
            ],
            "image/png": "[encoded data removed]"
          },
          "metadata": {}
        }
      ]
    },
    {
      "cell_type": "markdown",
      "source": [
        "Now, it is easier to compare models.\n",
        "\n",
        "The top is the following (number of right answers/number of questions):\n",
        "1. NousResearch/Hermes-3-Llama-3.1-8B (4/5)\n",
        "2. meta-llama/Meta-Llama-3.1-70B-Instruct (3/5)\n",
        "3. Qwen/Qwen2.5-72B-Instruct; microsoft/Phi-3.5-mini-instruct (2/5)\n",
        "4. meta-llama/Meta-Llama-3.1-70B-Instruct (1/5)\n",
        "\n",
        "The forth question, concerning competetive pricing range for AI code assistant turned out to be the easiest (4/5 models answered right). At the same time, the first and the last questions turned out to be the most difficult (only the model got the correct answer). The first question was about the most paid ML positions in the USA in 2024. The last question asked which country is leading in AI."
      ],
      "metadata": {
        "id": "Ne78Dw7eD6jB"
      }
    },
    {
      "cell_type": "markdown",
      "source": [
        "I want to take a look at each model's answers more closely:"
      ],
      "metadata": {
        "id": "9NgO3f_CEbSg"
      }
    },
    {
      "cell_type": "code",
      "source": [
        "answers['meta-llama/Meta-Llama-3.1-70B-Instruct']"
      ],
      "metadata": {
        "colab": {
          "base_uri": "https://localhost:8080/"
        },
        "id": "mnXtwvrrZ_W6",
        "outputId": "1be50fb9-cdf9-4850-d6d0-9ca89be1c178"
      },
      "execution_count": null,
      "outputs": [
        {
          "output_type": "execute_result",
          "data": {
            "text/plain": [
              "['Based on national averages and online sources, here are the top 5 highest-paid ML positions in the U.S. in 2024:\\n\\n1. **ML Engineering Manager**: $250,000 - $350,000 per year\\n2. **Research Scientist - ML**: $200,000 - $320,000 per year\\n3. **Senior ML Engineer**: $180,000 - $280,000 per year\\n4. **Director of ML**: $170,000 - $270,000 per year\\n5. **Lead ML Engineer**: $160,000 - $260,000 per year',\n",
              " '1. TensorFlow\\n2. PyTorch\\n3. Scikit-learn\\n4. Keras\\n5. OpenCV',\n",
              " 'Meta, Alibaba Cloud, DeepMind',\n",
              " '$9-$29',\n",
              " 'China']"
            ]
          },
          "metadata": {},
          "execution_count": 112
        }
      ]
    },
    {
      "cell_type": "code",
      "source": [
        "answers['Qwen/Qwen2.5-72B-Instruct']"
      ],
      "metadata": {
        "colab": {
          "base_uri": "https://localhost:8080/"
        },
        "id": "fl2B-_jRaDOf",
        "outputId": "f0783ae8-f612-4702-97df-865911a62d25"
      },
      "execution_count": null,
      "outputs": [
        {
          "output_type": "execute_result",
          "data": {
            "text/plain": [
              "['1. Machine Learning Engineer\\n2. Data Scientist\\n3. AI Research Scientist\\n4. Data Engineer\\n5. Machine Learning Researcher',\n",
              " 'TensorFlow\\nPyTorch\\nScikit-learn\\nPandas\\nNumPy',\n",
              " 'Meta, Anthropic, DeepMind',\n",
              " '10-30',\n",
              " 'United States']"
            ]
          },
          "metadata": {},
          "execution_count": 113
        }
      ]
    },
    {
      "cell_type": "code",
      "source": [
        "answers['mistralai/Mistral-Nemo-Instruct-2407']"
      ],
      "metadata": {
        "colab": {
          "base_uri": "https://localhost:8080/"
        },
        "id": "WfBKmCduaF2M",
        "outputId": "e320a3a4-5522-4d35-f652-8ff34be210a5"
      },
      "execution_count": null,
      "outputs": [
        {
          "output_type": "execute_result",
          "data": {
            "text/plain": [
              "['1. Machine Learning Engineer\\n2. AI Architect\\n3. Director of Machine Learning\\n4. Data Scientist Manager\\n5. Machine Learning Scientist',\n",
              " '1. Scikit-learn\\n2. TensorFlow\\n3. PyTorch\\n4. Keras\\n5. Pandas',\n",
              " 'Meta, Alibaba Cloud, DeepMind',\n",
              " '10-20',\n",
              " 'As of 2024, the United States is considered the leader in AI development.']"
            ]
          },
          "metadata": {},
          "execution_count": 114
        }
      ]
    },
    {
      "cell_type": "code",
      "source": [
        "answers['NousResearch/Hermes-3-Llama-3.1-8B']"
      ],
      "metadata": {
        "colab": {
          "base_uri": "https://localhost:8080/"
        },
        "id": "e9JI86AdZu5z",
        "outputId": "93abdabc-01ef-4bc8-9010-5e7a27e26cf3"
      },
      "execution_count": null,
      "outputs": [
        {
          "output_type": "execute_result",
          "data": {
            "text/plain": [
              "['1. Machine Learning Engineer\\n2. Data Scientist\\n3. AI Research Scientist\\n4. Natural Language Processing (NLP) Engineer\\n5. Computer Vision Engineer',\n",
              " '1. TensorFlow\\n2. PyTorch\\n3. Scikit-learn\\n4. Keras\\n5. Pandas',\n",
              " '1. Meta\\n2. Alibaba Cloud\\n3. DeepMind',\n",
              " '$10-25',\n",
              " 'As of 2023, it is difficult to determine a single country as the definitive leader in AI development for 2024, as the field of artificial intelligence is rapidly evolving and involves collaboration among multiple countries and private companies. However, some countries that are considered global leaders in AI research, development, and implementation include:\\n\\n1. United States\\n2. China\\n3. United Kingdom\\n4. Canada\\n5. Japan\\n6. Germany\\n7. France\\n8. Israel\\n9. South Korea\\n\\nThese countries have significant investments in AI research, a strong presence in the tech industry, and a track record of producing groundbreaking AI advancements. The landscape may shift in the coming years as more countries invest in AI and make progress in the field.']"
            ]
          },
          "metadata": {},
          "execution_count": 111
        }
      ]
    },
    {
      "cell_type": "code",
      "source": [
        "answers['microsoft/Phi-3.5-mini-instruct']"
      ],
      "metadata": {
        "colab": {
          "base_uri": "https://localhost:8080/"
        },
        "id": "phBwbvMXaIgP",
        "outputId": "baaa1529-94cd-477d-816c-4b643b51bda1"
      },
      "execution_count": null,
      "outputs": [
        {
          "output_type": "execute_result",
          "data": {
            "text/plain": [
              "['1. Machine Learning Engineer - Lead Data Scientist\\n2. Senior Machine Learning Scientist - Machine Learning Research Lead\\n3. Machine Learning Architect - Chief Data Officer\\n4. Director of Machine Learning Operations\\n5. Principal Data Scientist - Machine Learning Product Manager',\n",
              " '1. TensorFlow\\n2. PyTorch\\n3. Scikit-learn\\n4. Keras\\n5. XGBoost',\n",
              " 'Meta, DeepMind, Anthropic',\n",
              " '$9.99 - $19.99\\n\\nPlease note that pricing can vary based on the features offered, the level of support, and the specific platform. Always check the latest pricing from the provider for the most accurate information.',\n",
              " 'China']"
            ]
          },
          "metadata": {},
          "execution_count": 116
        }
      ]
    },
    {
      "cell_type": "markdown",
      "source": [
        "From what I observed, I could tell that every model has problem with prompt understanding. In each question I asked for particular output (only list of positions/libraries, only pricing range and nothing else). At the same time:\n",
        "\n",
        "meta-llama/Meta-Llama-3.1-70B-Instruct gave more than was required in the first answer;\n",
        "\n",
        "mistralai/Mistral-Nemo-Instruct-2407 instead of giving the right answer to the last question eloborated a bit on it (however, the country's name was right);\n",
        "\n",
        "NousResearch/Hermes-3-Llama-3.1-8B could not answer last question at all: instead of giving a country's name, it gave a list of countries; moreover, the question was about year 2024 and the model asnwered about 2023\n",
        "\n",
        "microsoft/Phi-3.5-mini-instruct did not gave just numbers in question 4, but also a bit of text\n",
        "\n",
        "This points to problems with question understadning. The problem could potentially be solved by giving a system prompt to the model or reformulating the questions."
      ],
      "metadata": {
        "id": "n1klqV86Guja"
      }
    },
    {
      "cell_type": "markdown",
      "source": [
        "# Conclusion\n",
        "\n",
        "+ The benchmarking results suggest that NousResearch/Hermes-3-Llama-3.1-8B is the best among the tested ones as it answered correctly 4 questions out of 5. The worst performance was demonstrated by meta-llama/Meta-Llama-3.1-70B-Instruct (only 1 right answer).\n",
        "\n",
        "+ The results also point that questions need to be formulated more precisely and reveals the need to experiment with system prompts of models as every model at least in one question gave answer in the wrong form.\n",
        "\n",
        "+ Moreover, the market is constantly changing and models can be trained on old information. Therefore a constantly updated RAG system is needed to use LLMs in market research.\n",
        "\n",
        "+ Lastly, the benchmark questions were not ideal due to the nature of test task and time restrictions. Questions should be designed more precisely and based on multiple sources. For each question, the way to improve it was proposed above.\n",
        "\n",
        "+ This work also demonstrated a fast and robust way to evaluate LLMs using a third judge model. This allows to avoid human evaluation and, thereofre, save time and resources.\n"
      ],
      "metadata": {
        "id": "ebgPmHxtJI3r"
      }
    },
    {
      "cell_type": "markdown",
      "source": [
        "# Future Research\n",
        "\n",
        "Along with benchmarking LLMs for market questions, I believe bias research should be conducted. LLMs are designed and trained by big corporations and can be biased bacause of it (e.g., prefer creator's company or country in certain questions).\n",
        "\n",
        "However, in the current research models did not demonstrate bias. For example, Chinese models said that USA is leading in AI; and US models said the same about China."
      ],
      "metadata": {
        "id": "CBXF25AT4d2C"
      }
    },
    {
      "cell_type": "markdown",
      "source": [
        "# References\n",
        "\n",
        "Zheng, L., Chiang, W., Sheng, Y., Zhuang, S., Wu, Z., Zhuang, Y., Lin, Z., Li, Z., Li, D., Xing, E. P., Zhang, H., Gonzalez, J. E., & Stoica, I. (2023, June 9). Judging LLM-as-a-Judge with MT-Bench and Chatbot Arena. arXiv.org. https://arxiv.org/abs/2306.05685"
      ],
      "metadata": {
        "id": "Uk3XGpFJK5Qx"
      }
    }
  ]
}